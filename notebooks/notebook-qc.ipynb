{
 "cells": [
  {
   "cell_type": "markdown",
   "metadata": {},
   "source": [
    "### Exploring Qiskit, Cirq, and Pennylane\n",
    "\n",
    "Cite like this [[1]](#ref-1), and this [[2]](#ref-2). Our notebook is available on github at [[3]](#ref-3)."
   ]
  },
  {
   "cell_type": "code",
   "execution_count": null,
   "metadata": {},
   "outputs": [],
   "source": []
  },
  {
   "cell_type": "markdown",
   "metadata": {},
   "source": []
  },
  {
   "cell_type": "code",
   "execution_count": null,
   "metadata": {},
   "outputs": [],
   "source": []
  },
  {
   "cell_type": "markdown",
   "metadata": {},
   "source": []
  },
  {
   "cell_type": "code",
   "execution_count": null,
   "metadata": {},
   "outputs": [],
   "source": []
  },
  {
   "cell_type": "markdown",
   "metadata": {},
   "source": []
  },
  {
   "cell_type": "markdown",
   "metadata": {},
   "source": [
    "### References\n",
    "<!-- use two extra spaces at end of each line for line break -->\n",
    "[1] <a id=\"ref-1\"></a> [Andrej Karpathy Lecture](https://www.youtube.com/watch?v=VMj-3S1tku0)  \n",
    "[2] <a id=\"ref-2\"></a> [Micrograd Repository](https://github.com/karpathy/micrograd)  \n",
    "[3] <a id=\"ref-3\"></a> [Our Jupyter notebook in this post](https://github.com/sriramgkn/micrograd-sri)  \n"
   ]
  }
 ],
 "metadata": {
  "kernelspec": {
   "display_name": "sri",
   "language": "python",
   "name": "python3"
  },
  "language_info": {
   "codemirror_mode": {
    "name": "ipython",
    "version": 3
   },
   "file_extension": ".py",
   "mimetype": "text/x-python",
   "name": "python",
   "nbconvert_exporter": "python",
   "pygments_lexer": "ipython3",
   "version": "3.12.2"
  }
 },
 "nbformat": 4,
 "nbformat_minor": 2
}
