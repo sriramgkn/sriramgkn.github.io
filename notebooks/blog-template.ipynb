{
 "cells": [
  {
   "cell_type": "markdown",
   "metadata": {},
   "source": [
    "## Post Title\n",
    "\n",
    "Cite like this [[1](#ref-1)]."
   ]
  },
  {
   "cell_type": "code",
   "execution_count": null,
   "metadata": {},
   "outputs": [],
   "source": []
  },
  {
   "cell_type": "markdown",
   "metadata": {},
   "source": [
    "### Paragraph"
   ]
  },
  {
   "cell_type": "code",
   "execution_count": null,
   "metadata": {},
   "outputs": [],
   "source": []
  },
  {
   "cell_type": "markdown",
   "metadata": {},
   "source": [
    "---\n",
    "### References  \n",
    "[1] <a id=\"ref-1\"></a> [https://www.example.com](https://www.example.com)  \n",
    "<!-- use two extra spaces at end of each line for line break -->"
   ]
  }
 ],
 "metadata": {
  "kernelspec": {
   "display_name": "sri",
   "language": "python",
   "name": "python3"
  },
  "language_info": {
   "name": "python",
   "version": "3.12.2"
  }
 },
 "nbformat": 4,
 "nbformat_minor": 2
}
